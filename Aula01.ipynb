{
  "nbformat": 4,
  "nbformat_minor": 0,
  "metadata": {
    "colab": {
      "provenance": [],
      "authorship_tag": "ABX9TyM8rVdk0lX5jH//QldTGVoP",
      "include_colab_link": true
    },
    "kernelspec": {
      "name": "python3",
      "display_name": "Python 3"
    },
    "language_info": {
      "name": "python"
    }
  },
  "cells": [
    {
      "cell_type": "markdown",
      "metadata": {
        "id": "view-in-github",
        "colab_type": "text"
      },
      "source": [
        "<a href=\"https://colab.research.google.com/github/mcarolfll/Banco-de-Dados/blob/main/Aula01.ipynb\" target=\"_parent\"><img src=\"https://colab.research.google.com/assets/colab-badge.svg\" alt=\"Open In Colab\"/></a>"
      ]
    },
    {
      "cell_type": "code",
      "execution_count": 9,
      "metadata": {
        "colab": {
          "base_uri": "https://localhost:8080/"
        },
        "id": "weGGOc8oQ83L",
        "outputId": "adf7293f-823a-443e-8d7f-30b3f05e5da7"
      },
      "outputs": [
        {
          "output_type": "stream",
          "name": "stdout",
          "text": [
            "ola mundo\n"
          ]
        }
      ],
      "source": [
        "print(\"ola mundo\")"
      ]
    },
    {
      "cell_type": "markdown",
      "source": [
        "variáveis em python"
      ],
      "metadata": {
        "id": "DCRfeR4lSbnw"
      }
    },
    {
      "cell_type": "code",
      "source": [
        "nome = \"maria\"\n",
        "idade = 17\n",
        "print(\"meu nome é\", nome, \"e tenho\", idade, \"anos\")"
      ],
      "metadata": {
        "colab": {
          "base_uri": "https://localhost:8080/"
        },
        "id": "ZTBbi7dmSiwB",
        "outputId": "8e059ea1-b168-42a5-cd0f-57b730e34f3b"
      },
      "execution_count": 10,
      "outputs": [
        {
          "output_type": "stream",
          "name": "stdout",
          "text": [
            "meu nome é maria e tenho 17 anos\n"
          ]
        }
      ]
    },
    {
      "cell_type": "markdown",
      "source": [
        "Entrada de dados"
      ],
      "metadata": {
        "id": "4T44f2mVTbxg"
      }
    },
    {
      "cell_type": "code",
      "source": [
        "nome = input(\"Qual o seu nome?\")\n",
        "print(\"bem-vindo(a)\", nome)"
      ],
      "metadata": {
        "colab": {
          "base_uri": "https://localhost:8080/"
        },
        "id": "x19N7dmzThg5",
        "outputId": "b9da5059-c127-482a-8735-470eeb3658ae"
      },
      "execution_count": 11,
      "outputs": [
        {
          "output_type": "stream",
          "name": "stdout",
          "text": [
            "Qual o seu nome?carol\n",
            "bem-vindo(a) carol\n"
          ]
        }
      ]
    },
    {
      "cell_type": "markdown",
      "source": [
        "estrutura condicional simples if else"
      ],
      "metadata": {
        "id": "byDmGSDCT3Aw"
      }
    },
    {
      "cell_type": "code",
      "source": [
        "nota = int(input(\"entre com um numero: \"))\n",
        "\n",
        "if nota >= 6:\n",
        "  print(\"Aprovado\")\n",
        "\n",
        "else:\n",
        "  print(\"Reprovado\")"
      ],
      "metadata": {
        "colab": {
          "base_uri": "https://localhost:8080/"
        },
        "id": "qrF_oe9GT78v",
        "outputId": "6e42b2c5-13c9-4a5e-ff5d-4979370bfe6a"
      },
      "execution_count": 17,
      "outputs": [
        {
          "output_type": "stream",
          "name": "stdout",
          "text": [
            "entre com um numero: 10\n",
            "Aprovado\n"
          ]
        }
      ]
    },
    {
      "cell_type": "code",
      "metadata": {
        "id": "3bb619f5"
      },
      "source": [
        "v1 = input(\"Entre com o primeiro número: \")\n",
        "v1 = int(v1)\n",
        "v2 = input(\"Entre com o segundo número: \")\n",
        "v2 = int(v2)\n",
        "\n",
        "if v1 > v2:\n",
        "  print(\"O maior número é:\", v1)\n",
        "else:\n",
        "  print(\"O maior número é:\", v2)"
      ],
      "execution_count": null,
      "outputs": []
    },
    {
      "cell_type": "markdown",
      "source": [
        "Operações matemáticas"
      ],
      "metadata": {
        "id": "hv4cdvr8VNR3"
      }
    },
    {
      "cell_type": "code",
      "source": [
        "a = 10\n",
        "b = 5\n",
        "print(\"soma\", a+b)\n",
        "print(\"Subtração\", a-b)\n",
        "print(\"Multiplicação\", a*b)\n",
        "print(\"divisão\", a/b)\n",
        "\n"
      ],
      "metadata": {
        "id": "w1e4My8IVPrO"
      },
      "execution_count": null,
      "outputs": []
    }
  ]
}